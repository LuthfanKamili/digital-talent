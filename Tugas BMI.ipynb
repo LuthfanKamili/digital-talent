{
 "cells": [
  {
   "cell_type": "markdown",
   "metadata": {},
   "source": [
    "# Kode untuk menghitung BMI"
   ]
  },
  {
   "cell_type": "code",
   "execution_count": 74,
   "metadata": {},
   "outputs": [
    {
     "name": "stdout",
     "output_type": "stream",
     "text": [
      "berat anda\n",
      "overweight\n"
     ]
    }
   ],
   "source": [
    "weight = 87\n",
    "height = 1.73\n",
    "BMI = weight / height**2\n",
    "\n",
    "print (\"berat anda\")\n",
    "\n",
    "if BMI<15:\n",
    "    print(\"Very severely underweight\")\n",
    "elif BMI<=15:\n",
    "    print(\"Severely underweight\")\n",
    "elif BMI<=18.5:\n",
    "    print (\"underweight\")\n",
    "elif BMI<=25:\n",
    "    print (\"normal (healthy weight)\")\n",
    "elif BMI<=30:\n",
    "    print (\"overweight\")\n",
    "elif BMI<=35:\n",
    "    print (\"moderate obese\")\n",
    "elif BMI<=40:\n",
    "    print (\"severely obese\")\n",
    "else:\n",
    "    print (\"very severely obese\")\n",
    "\n",
    "\n"
   ]
  },
  {
   "cell_type": "code",
   "execution_count": null,
   "metadata": {},
   "outputs": [],
   "source": []
  },
  {
   "cell_type": "code",
   "execution_count": 72,
   "metadata": {},
   "outputs": [
    {
     "name": "stdout",
     "output_type": "stream",
     "text": [
      "Severely underweight\n"
     ]
    }
   ],
   "source": []
  },
  {
   "cell_type": "code",
   "execution_count": null,
   "metadata": {},
   "outputs": [],
   "source": []
  },
  {
   "cell_type": "code",
   "execution_count": null,
   "metadata": {},
   "outputs": [],
   "source": []
  }
 ],
 "metadata": {
  "kernelspec": {
   "display_name": "Python 3",
   "language": "python",
   "name": "python3"
  },
  "language_info": {
   "codemirror_mode": {
    "name": "ipython",
    "version": 3
   },
   "file_extension": ".py",
   "mimetype": "text/x-python",
   "name": "python",
   "nbconvert_exporter": "python",
   "pygments_lexer": "ipython3",
   "version": "3.7.0"
  }
 },
 "nbformat": 4,
 "nbformat_minor": 2
}
