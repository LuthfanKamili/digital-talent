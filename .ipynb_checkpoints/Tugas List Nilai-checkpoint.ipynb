{
 "cells": [
  {
   "cell_type": "markdown",
   "metadata": {},
   "source": [
    "# LATIHAN 2 - Tugas List Nilai\n",
    "\n",
    "Diberikan sekumpulan Nilai Random antara 0 sampai dengan 100 sebanyak 250 nilai. Buatlah program untuk melakukan hal berikut:\n",
    "\n",
    "1. Tampilkan Angka Ganjil dari ke 250 nilai tersebut\n",
    "2. Tampilkan berapa banyak yang mendapatkan nilai lebih dari 70\n",
    "3. Tampilkan standar deviasi dari sekumpulan nilai tersebut\n",
    "4. Tampilkan nilai maksimum dan minimum\n",
    "5. Tampilkan modus dari sekumpulan nilai tersebut"
   ]
  },
  {
   "cell_type": "code",
   "execution_count": 42,
   "metadata": {
    "scrolled": true
   },
   "outputs": [
    {
     "name": "stdout",
     "output_type": "stream",
     "text": [
      "[3, 8, 15, 56, 78, 51, 95, 22, 58, 72, 4, 48, 37, 34, 55, 7, 25, 49, 81, 57, 98, 45, 40, 56, 76, 32, 5, 72, 13, 82, 64, 19, 31, 22, 69, 36, 14, 39, 71, 54, 91, 67, 61, 89, 6, 28, 52, 29, 12, 61, 93, 1, 98, 53, 79, 16, 75, 7, 76, 70, 55, 38, 68, 35, 1, 69, 29, 33, 82, 77, 41, 38, 83, 90, 43, 10, 41, 96, 36, 54, 72, 73, 99, 66, 83, 78, 65, 10, 10, 34, 11, 30, 91, 1, 81, 34, 69, 40, 18, 39, 24, 75, 54, 20, 44, 28, 83, 93, 9, 54, 30, 72, 41, 56, 76, 89, 97, 24, 60, 28, 74, 70, 97, 89, 31, 36, 98, 23, 56, 62, 79, 7, 50, 33, 2, 38, 43, 10, 21, 49, 74, 98, 38, 92, 34, 77, 64, 80, 53, 92, 23, 97, 11, 5, 52, 1, 77, 5, 15, 67, 46, 1, 40, 1, 55, 36, 19, 23, 69, 30, 4, 10, 39, 97, 89, 59, 77, 66, 51, 4, 38, 94, 49, 47, 7, 67, 14, 68, 33, 7, 50, 11, 61, 44, 94, 85, 31, 90, 27, 61, 95, 28, 12, 97, 26, 9, 94, 69, 66, 21, 11, 94, 90, 13, 74, 2, 77, 46, 43, 18, 47, 82, 94, 43, 53, 4, 59, 33, 95, 26, 32, 54, 53, 8, 19, 2, 96, 66, 66, 57, 33, 18, 63, 77, 1, 17, 85, 30, 8, 44]\n"
     ]
    }
   ],
   "source": [
    "import random\n",
    "\n",
    "nilaiTugas = []\n",
    "for i in range(250):\n",
    "    nilaiTugas.append(random.randrange(1,100,1))\n",
    "    \n",
    "print(nilaiTugas)"
   ]
  },
  {
   "cell_type": "code",
   "execution_count": 46,
   "metadata": {},
   "outputs": [
    {
     "name": "stdout",
     "output_type": "stream",
     "text": [
      "[3, 15, 51, 95, 37, 55, 7, 25, 49, 81, 57, 45, 5, 13, 19, 31, 69, 39, 71, 91, 67, 61, 89, 29, 61, 93, 1, 53, 79, 75, 7, 55, 35, 1, 69, 29, 33, 77, 41, 83, 43, 41, 73, 99, 83, 65, 11, 91, 1, 81, 69, 39, 75, 83, 93, 9, 41, 89, 97, 97, 89, 31, 23, 79, 7, 33, 43, 21, 49, 77, 53, 23, 97, 11, 5, 1, 77, 5, 15, 67, 1, 1, 55, 19, 23, 69, 39, 97, 89, 59, 77, 51, 49, 47, 7, 67, 33, 7, 11, 61, 85, 31, 27, 61, 95, 97, 9, 69, 21, 11, 13, 77, 43, 47, 43, 53, 59, 33, 95, 53, 19, 57, 33, 63, 77, 1, 17, 85]\n"
     ]
    }
   ],
   "source": [
    "# 1. Tampilkan angka-angka ganjil\n",
    "nilaiGanjil = []\n",
    "for ganjil in nilaiTugas:\n",
    "    if ganjil % 2 == 1:\n",
    "        nilaiGanjil.append(ganjil)\n",
    "\n",
    "print(nilaiGanjil)"
   ]
  },
  {
   "cell_type": "code",
   "execution_count": 48,
   "metadata": {},
   "outputs": [
    {
     "name": "stdout",
     "output_type": "stream",
     "text": [
      "2. Yang mendapatkan nilai lebih dari 70 ada sebanyak: 68 siswa\n",
      "[78, 95, 72, 81, 98, 76, 72, 82, 71, 91, 89, 93, 98, 79, 75, 76, 82, 77, 83, 90, 96, 72, 73, 99, 83, 78, 91, 81, 75, 83, 93, 72, 76, 89, 97, 74, 97, 89, 98, 79, 74, 98, 92, 77, 80, 92, 97, 77, 97, 89, 77, 94, 94, 85, 90, 95, 97, 94, 94, 90, 74, 77, 82, 94, 95, 96, 77, 85]\n"
     ]
    }
   ],
   "source": [
    "# 2. Tampilkan berapa banyak yang mendapatkan nilai > 70\n",
    "\n",
    "nilailebih70 = []\n",
    "for nilai in nilaiTugas:\n",
    "    if nilai > 70:\n",
    "        nilailebih70.append(nilai)\n",
    "\n",
    "\n",
    "print(\"2. Yang mendapatkan nilai lebih dari 70 ada sebanyak:\",len(nilailebih70),\"siswa\")\n",
    "print(nilailebih70)"
   ]
  },
  {
   "cell_type": "code",
   "execution_count": 49,
   "metadata": {},
   "outputs": [
    {
     "name": "stdout",
     "output_type": "stream",
     "text": [
      "Standar Deviasi dari List Nilai Tersebut adalah 29.208268418377703\n"
     ]
    }
   ],
   "source": [
    "# 3. Tampilkan berapa standar deviasinya\n",
    "jumlah = 0\n",
    "for nilai in nilaiTugas:\n",
    "    jumlah = jumlah + nilai\n",
    "\n",
    "rerata= jumlah/len(nilaiTugas)\n",
    "\n",
    "selisihkuadrat=0\n",
    "jumlahselisihkuadrat=0\n",
    "for nilai in nilaiTugas:\n",
    "    selisihkuadrat = (nilai - rerata)**2\n",
    "    jumlahselisihkuadrat = jumlahselisihkuadrat + selisihkuadrat\n",
    "    \n",
    "standarDeviasi = ((jumlahselisihkuadrat)/len(nilaiTugas)) ** 0.5\n",
    "print(\"Standar Deviasi dari List Nilai Tersebut adalah\", standarDeviasi)"
   ]
  },
  {
   "cell_type": "code",
   "execution_count": 50,
   "metadata": {},
   "outputs": [
    {
     "name": "stdout",
     "output_type": "stream",
     "text": [
      "Nilai Maksimum pada list nilai tersebut adalah  99\n",
      "Nilai Minimum pada list nilai tersebut adalah  1\n"
     ]
    }
   ],
   "source": [
    "# 4. Tampilkan nilai maksimum dan minimum\n",
    "maks=0\n",
    "mins=1\n",
    "for m in range(len(nilaiTugas)):\n",
    "    if nilaiTugas[m] > maks:\n",
    "        maks = nilaiTugas[m]\n",
    "    elif nilaiTugas[m]<mins:\n",
    "        mins = nilaiTugas[m]\n",
    "print(\"Nilai Maksimum pada list nilai tersebut adalah \",maks)\n",
    "print(\"Nilai Minimum pada list nilai tersebut adalah \",mins)"
   ]
  },
  {
   "cell_type": "code",
   "execution_count": 51,
   "metadata": {},
   "outputs": [
    {
     "name": "stdout",
     "output_type": "stream",
     "text": [
      "Modus Pada List Nilai tersebut adalah 1 dengan Kemunculan Sebanyak 7 kali\n"
     ]
    }
   ],
   "source": [
    "# 5. Tampilkan Modus (nilai yang sering muncul) dari sekumpulan data tersebut\n",
    "\n",
    "frek=0\n",
    "modus={}\n",
    "\n",
    "for nilai in nilaiTugas:\n",
    "    hitung = nilaiTugas.count(nilai)\n",
    "    modus.update({nilai:hitung})\n",
    "    \n",
    "for key in modus:\n",
    "    if modus[key]>frek:\n",
    "        frek=modus[key]\n",
    "        \n",
    "for key in modus:\n",
    "    if modus[key]==frek:\n",
    "        print(\"Modus Pada List Nilai tersebut adalah\", key, \"dengan Kemunculan Sebanyak\", frek, \"kali\")"
   ]
  },
  {
   "cell_type": "code",
   "execution_count": null,
   "metadata": {},
   "outputs": [],
   "source": []
  }
 ],
 "metadata": {
  "kernelspec": {
   "display_name": "Python 3",
   "language": "python",
   "name": "python3"
  },
  "language_info": {
   "codemirror_mode": {
    "name": "ipython",
    "version": 3
   },
   "file_extension": ".py",
   "mimetype": "text/x-python",
   "name": "python",
   "nbconvert_exporter": "python",
   "pygments_lexer": "ipython3",
   "version": "3.7.0"
  }
 },
 "nbformat": 4,
 "nbformat_minor": 2
}
